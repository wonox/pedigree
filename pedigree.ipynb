{
 "cells": [
  {
   "cell_type": "markdown",
   "metadata": {},
   "source": [
    "# wikidata から家系図\n",
    "\n",
    "- 紫式部 https://www.wikidata.org/wiki/Q81731 の子孫\n",
    "\n",
    "## Label付きのjson\n",
    "https://query.wikidata.org/sparql?query=SELECT%20DISTINCT%20%3Fhuman%20%3Ffather%20%3Fmother%20%3Fsex%20%3FhumanLabel%20%3FfatherLabel%20%3FmotherLabel%0AWHERE%0A%7B%0A%7Bwd%3AQ81731%20wdt%3AP40%2a%20%3Fhuman%20.%0A%20%20%20%20%3Fhuman%20wdt%3AP31%20wd%3AQ5%20.%20%20%20%20%20%20%0A%20%20%20%20OPTIONAL%7B%3Fhuman%20wdt%3AP22%20%3Ffather%20.%7D%0A%20%20%20%20OPTIONAL%7B%3Fhuman%20wdt%3AP25%20%3Fmother%20.%7D%0A%20%20%20%20OPTIONAL%7B%3Fhuman%20wdt%3AP21%20%3Fsex%20.%7D%0A%7D%0AUNION%0A%7B%0Awd%3AQ81731%20wdt%3AP22%2B%20%3Fhuman%20.%0A%20%20%20%20%3Fhuman%20wdt%3AP31%20wd%3AQ5%20.%20%20%20%20%20%20%0A%20%20%20%20OPTIONAL%7B%3Fhuman%20wdt%3AP22%20%3Ffather%20.%7D%0A%20%20%20%20OPTIONAL%7B%3Fhuman%20wdt%3AP25%20%3Fmother%20.%7D%0A%20%20%20%20OPTIONAL%7B%3Fhuman%20wdt%3AP21%20%3Fsex%20.%7D%0A%7D%0AUNION%0A%7B%0Awd%3AQ81731%20wdt%3AP25%2B%20%3Fhuman%20.%0A%20%20%20%20%3Fhuman%20wdt%3AP31%20wd%3AQ5%20.%20%20%20%20%20%20%0A%20%20%20%20OPTIONAL%7B%3Fhuman%20wdt%3AP22%20%3Ffather%20.%7D%0A%20%20%20%20OPTIONAL%7B%3Fhuman%20wdt%3AP25%20%3Fmother%20.%7D%0A%20%20%20%20OPTIONAL%7B%3Fhuman%20wdt%3AP21%20%3Fsex%20.%7D%0A%7D%0ASERVICE%20wikibase%3Alabel%20%7B%20bd%3AserviceParam%20wikibase%3Alanguage%20%22%5BAUTO_LANGUAGE%5D%2Cja%22%20%7D%0A%7D&format=json\n",
    "\n",
    "## Label付き\n",
    "https://query.wikidata.org/sparql?query=SELECT%20DISTINCT%20%3Fhuman%20%3Ffather%20%3Fmother%20%3Fsex%0AWHERE%0A%7B%0A%7Bwd%3AQ81731%20wdt%3AP40%2a%20%3Fhuman%20.%0A%20%20%20%20%3Fhuman%20wdt%3AP31%20wd%3AQ5%20.%20%20%20%20%20%20%0A%20%20%20%20OPTIONAL%7B%3Fhuman%20wdt%3AP22%20%3Ffather%20.%7D%0A%20%20%20%20OPTIONAL%7B%3Fhuman%20wdt%3AP25%20%3Fmother%20.%7D%0A%20%20%20%20OPTIONAL%7B%3Fhuman%20wdt%3AP21%20%3Fsex%20.%7D%0A%7D%0AUNION%0A%7B%0Awd%3AQ81731%20wdt%3AP22%2a%20%3Fhuman%20.%0A%20%20%20%20%3Fhuman%20wdt%3AP31%20wd%3AQ5%20.%20%20%20%20%20%20%0A%20%20%20%20OPTIONAL%7B%3Fhuman%20wdt%3AP22%20%3Ffather%20.%7D%0A%20%20%20%20OPTIONAL%7B%3Fhuman%20wdt%3AP25%20%3Fmother%20.%7D%0A%20%20%20%20OPTIONAL%7B%3Fhuman%20wdt%3AP21%20%3Fsex%20.%7D%0A%7D%0AUNION%0A%7B%0Awd%3AQ81731%20wdt%3AP25%2a%20%3Fhuman%20.%0A%20%20%20%20%3Fhuman%20wdt%3AP31%20wd%3AQ5%20.%20%20%20%20%20%20%0A%20%20%20%20OPTIONAL%7B%3Fhuman%20wdt%3AP22%20%3Ffather%20.%7D%0A%20%20%20%20OPTIONAL%7B%3Fhuman%20wdt%3AP25%20%3Fmother%20.%7D%0A%20%20%20%20OPTIONAL%7B%3Fhuman%20wdt%3AP21%20%3Fsex%20.%7D%0A%7D%0A%7D&format=json\n",
    "\n",
    "https://query.wikidata.org/#SELECT%20DISTINCT%20%3Fhuman%20%3Ffather%20%3Fmother%20%3Fsex%0AWHERE%0A%7B%0A%7Bwd%3AQ81731%20wdt%3AP40%2a%20%3Fhuman%20.%0A%20%20%20%20%3Fhuman%20wdt%3AP31%20wd%3AQ5%20.%20%20%20%20%20%20%0A%20%20%20%20OPTIONAL%7B%3Fhuman%20wdt%3AP22%20%3Ffather%20.%7D%0A%20%20%20%20OPTIONAL%7B%3Fhuman%20wdt%3AP25%20%3Fmother%20.%7D%0A%20%20%20%20OPTIONAL%7B%3Fhuman%20wdt%3AP21%20%3Fsex%20.%7D%0A%7D%0AUNION%0A%7B%0Awd%3AQ81731%20wdt%3AP22%2a%20%3Fhuman%20.%0A%20%20%20%20%3Fhuman%20wdt%3AP31%20wd%3AQ5%20.%20%20%20%20%20%20%0A%20%20%20%20OPTIONAL%7B%3Fhuman%20wdt%3AP22%20%3Ffather%20.%7D%0A%20%20%20%20OPTIONAL%7B%3Fhuman%20wdt%3AP25%20%3Fmother%20.%7D%0A%20%20%20%20OPTIONAL%7B%3Fhuman%20wdt%3AP21%20%3Fsex%20.%7D%0A%7D%0AUNION%0A%7B%0Awd%3AQ81731%20wdt%3AP25%2a%20%3Fhuman%20.%0A%20%20%20%20%3Fhuman%20wdt%3AP31%20wd%3AQ5%20.%20%20%20%20%20%20%0A%20%20%20%20OPTIONAL%7B%3Fhuman%20wdt%3AP22%20%3Ffather%20.%7D%0A%20%20%20%20OPTIONAL%7B%3Fhuman%20wdt%3AP25%20%3Fmother%20.%7D%0A%20%20%20%20OPTIONAL%7B%3Fhuman%20wdt%3AP21%20%3Fsex%20.%7D%0A%7D%0A%7D\n",
    "\n",
    "\n",
    "https://query.wikidata.org/#SELECT%20DISTINCT%20%3Fhuman%20%3FhumanLabel%20%3FfatherLabel%20%3FmotherLabel%20%3Fsex%0AWHERE%0A%7B%0A%7Bwd%3AQ81731%20wdt%3AP40%2a%20%3Fhuman%20.%0A%20%20%20%20%3Fhuman%20wdt%3AP31%20wd%3AQ5%20.%20%20%20%20%20%20%0A%20%20%20%20OPTIONAL%7B%3Fhuman%20wdt%3AP22%20%3Ffather%20.%7D%0A%20%20%20%20OPTIONAL%7B%3Fhuman%20wdt%3AP25%20%3Fmother%20.%7D%0A%20%20%20%20OPTIONAL%7B%3Fhuman%20wdt%3AP21%20%3Fsex%20.%7D%0A%7D%0AUNION%0A%7B%0Awd%3AQ81731%20wdt%3AP22%2a%20%3Fhuman%20.%0A%20%20%20%20%3Fhuman%20wdt%3AP31%20wd%3AQ5%20.%20%20%20%20%20%20%0A%20%20%20%20OPTIONAL%7B%3Fhuman%20wdt%3AP22%20%3Ffather%20.%7D%0A%20%20%20%20OPTIONAL%7B%3Fhuman%20wdt%3AP25%20%3Fmother%20.%7D%0A%20%20%20%20OPTIONAL%7B%3Fhuman%20wdt%3AP21%20%3Fsex%20.%7D%0A%7D%0AUNION%0A%7B%0Awd%3AQ81731%20wdt%3AP25%2a%20%3Fhuman%20.%0A%20%20%20%20%3Fhuman%20wdt%3AP31%20wd%3AQ5%20.%20%20%20%20%20%20%0A%20%20%20%20OPTIONAL%7B%3Fhuman%20wdt%3AP22%20%3Ffather%20.%7D%0A%20%20%20%20OPTIONAL%7B%3Fhuman%20wdt%3AP25%20%3Fmother%20.%7D%0A%20%20%20%20OPTIONAL%7B%3Fhuman%20wdt%3AP21%20%3Fsex%20.%7D%0A%7D%0ASERVICE%20wikibase%3Alabel%20%7B%20bd%3AserviceParam%20wikibase%3Alanguage%20%22%5BAUTO_LANGUAGE%5D%2Cen%22%20%7D%0A%20%20%7D%0A%23%20LIMIT%20100%26format%3Djson\n",
    "\n",
    "\n",
    "https://query.wikidata.org/sparql?query=SELECT%20DISTINCT%20%3Fhuman%20%3FhumanLabel%20%3FfatherLabel%20%3FmotherLabel%20%3Fsex%0AWHERE%0A%7B%0A%7Bwd%3AQ81731%20wdt%3AP40%2a%20%3Fhuman%20.%0A%20%20%20%20%3Fhuman%20wdt%3AP31%20wd%3AQ5%20.%20%20%20%20%20%20%0A%20%20%20%20OPTIONAL%7B%3Fhuman%20wdt%3AP22%20%3Ffather%20.%7D%0A%20%20%20%20OPTIONAL%7B%3Fhuman%20wdt%3AP25%20%3Fmother%20.%7D%0A%20%20%20%20OPTIONAL%7B%3Fhuman%20wdt%3AP21%20%3Fsex%20.%7D%0A%7D%0AUNION%0A%7B%0Awd%3AQ81731%20wdt%3AP22%2a%20%3Fhuman%20.%0A%20%20%20%20%3Fhuman%20wdt%3AP31%20wd%3AQ5%20.%20%20%20%20%20%20%0A%20%20%20%20OPTIONAL%7B%3Fhuman%20wdt%3AP22%20%3Ffather%20.%7D%0A%20%20%20%20OPTIONAL%7B%3Fhuman%20wdt%3AP25%20%3Fmother%20.%7D%0A%20%20%20%20OPTIONAL%7B%3Fhuman%20wdt%3AP21%20%3Fsex%20.%7D%0A%7D%0AUNION%0A%7B%0Awd%3AQ81731%20wdt%3AP25%2a%20%3Fhuman%20.%0A%20%20%20%20%3Fhuman%20wdt%3AP31%20wd%3AQ5%20.%20%20%20%20%20%20%0A%20%20%20%20OPTIONAL%7B%3Fhuman%20wdt%3AP22%20%3Ffather%20.%7D%0A%20%20%20%20OPTIONAL%7B%3Fhuman%20wdt%3AP25%20%3Fmother%20.%7D%0A%20%20%20%20OPTIONAL%7B%3Fhuman%20wdt%3AP21%20%3Fsex%20.%7D%0A%7D%0ASERVICE%20wikibase%3Alabel%20%7B%20bd%3AserviceParam%20wikibase%3Alanguage%20%22%5BAUTO_LANGUAGE%5D%2Cen%22%20%7D%0A%20%20%7D%0A%23%20LIMIT%20100%26format%3Djson&format=json\n",
    "\n",
    "\n",
    "https://query.wikidata.org/#SELECT%20%3Fhuman%20%3FhumanLabel%20%3FfatherLabel%20%3FmotherLabel%20%3Fdob%20%3FpobLabel%20%3FfamLabel%20%3Fgeni%0AWHERE%0A%7B%0Awd%3AQ81731%20wdt%3AP40%2Fwdt%3AP40%2a%20%3Fhuman%20.%0A%20%20%20%20%3Fhuman%20wdt%3AP31%20wd%3AQ5%20.%20%20%20%20%20%20%0A%20%20%20%20OPTIONAL%7B%3Fhuman%20wdt%3AP22%20%3Ffather%20.%7D%0A%20%20%20%20OPTIONAL%7B%3Fhuman%20wdt%3AP25%20%3Fmother%20.%7D%0A%20%20%20%20OPTIONAL%7B%3Fhuman%20wdt%3AP569%20%3Fdob%20.%7D%0A%20%20%20%20OPTIONAL%7B%3Fhuman%20wdt%3AP19%20%3Fpob%20.%7D%0A%20%20%20%20OPTIONAL%7B%3Fhuman%20wdt%3AP2600%20%3Fgeni%20.%7D%0A%20%20%20%20OPTIONAL%7B%3Fhuman%20wdt%3AP53%20%3Ffam%20.%7D%0ASERVICE%20wikibase%3Alabel%20%7B%20bd%3AserviceParam%20wikibase%3Alanguage%20%22%5BAUTO_LANGUAGE%5D%2Cen%22%20%7D%0A%7D\n",
    "\n",
    "\n",
    "https://query.wikidata.org/sparql?query=SELECT%20%3Fhuman%20%3FhumanLabel%20%3FfatherLabel%20%3FmotherLabel%20%3Fdob%20%3FpobLabel%20%3FfamLabel%20%3Fgeni%0AWHERE%0A%7B%0Awd%3AQ81731%20wdt%3AP40%2Fwdt%3AP40%2a%20%3Fhuman%20.%0A%20%20%20%20%3Fhuman%20wdt%3AP31%20wd%3AQ5%20.%20%20%20%20%20%20%0A%20%20%20%20OPTIONAL%7B%3Fhuman%20wdt%3AP22%20%3Ffather%20.%7D%0A%20%20%20%20OPTIONAL%7B%3Fhuman%20wdt%3AP25%20%3Fmother%20.%7D%0A%20%20%20%20OPTIONAL%7B%3Fhuman%20wdt%3AP569%20%3Fdob%20.%7D%0A%20%20%20%20OPTIONAL%7B%3Fhuman%20wdt%3AP19%20%3Fpob%20.%7D%0A%20%20%20%20OPTIONAL%7B%3Fhuman%20wdt%3AP2600%20%3Fgeni%20.%7D%0A%20%20%20%20OPTIONAL%7B%3Fhuman%20wdt%3AP53%20%3Ffam%20.%7D%0ASERVICE%20wikibase%3Alabel%20%7B%20bd%3AserviceParam%20wikibase%3Alanguage%20%22%5BAUTO_LANGUAGE%5D%2Cen%22%20%7D%0A%7D&format=json\n",
    "\n",
    "\n",
    "https://query.wikidata.org/sparql?query=SELECT%20DISTINCT%20%3Fhuman%20%3FhumanLabel%20%3FfatherLabel%20%3FmotherLabel%0AWHERE%0A%7B%0A%7Bwd%3AQ81731%20wdt%3AP40%2a%20%3Fhuman%20.%0A%20%20%20%20%3Fhuman%20wdt%3AP31%20wd%3AQ5%20.%20%20%20%20%20%20%0A%20%20%20%20OPTIONAL%7B%3Fhuman%20wdt%3AP22%20%3Ffather%20.%7D%0A%20%20%20%20OPTIONAL%7B%3Fhuman%20wdt%3AP25%20%3Fmother%20.%7D%0A%7D%0AUNION%0A%7B%0Awd%3AQ81731%20wdt%3AP22%2a%20%3Fhuman%20.%0A%20%20%20%20%3Fhuman%20wdt%3AP31%20wd%3AQ5%20.%20%20%20%20%20%20%0A%20%20%20%20OPTIONAL%7B%3Fhuman%20wdt%3AP22%20%3Ffather%20.%7D%0A%20%20%20%20OPTIONAL%7B%3Fhuman%20wdt%3AP25%20%3Fmother%20.%7D%0A%7D%0AUNION%0A%7B%0Awd%3AQ81731%20wdt%3AP25%2a%20%3Fhuman%20.%0A%20%20%20%20%3Fhuman%20wdt%3AP31%20wd%3AQ5%20.%20%20%20%20%20%20%0A%20%20%20%20OPTIONAL%7B%3Fhuman%20wdt%3AP22%20%3Ffather%20.%7D%0A%20%20%20%20OPTIONAL%7B%3Fhuman%20wdt%3AP25%20%3Fmother%20.%7D%0A%7D%0ASERVICE%20wikibase%3Alabel%20%7B%20bd%3AserviceParam%20wikibase%3Alanguage%20%22%5BAUTO_LANGUAGE%5D%2Cen%22%20%7D%0A%20%20%7D%0A%23%20LIMIT%20100&format=json\n",
    "\n",
    "## 述語をスラッシュでつなげているのが SequencePath 、述語の最後にアスタリスクをつけているのが ZeroOrMorePath\n",
    "https://qiita.com/frogcat/items/c4b398e50bfc7479cea6\n",
    "\n",
    "   # ただし、SequencePath でつなぐと、タイムアウトになるので、UNION でつなぐ\n",
    "\n",
    "## property\n",
    "\n",
    "- P40 child\n",
    "- P22 father\n",
    "- P25 mother\n",
    "\n",
    "## cf. バッハの子孫\n",
    "- https://www.wikidata.org/wiki/Wikidata:SPARQL_tutorial/ja\n",
    "- https://www.wikidata.org/wiki/Wikidata:SPARQL_query_service/queries/examples/human/ja#%E3%83%90%E3%83%83%E3%83%8F%E3%81%AE%E5%AD%90%E5%AD%AB\n"
   ]
  },
  {
   "cell_type": "markdown",
   "metadata": {},
   "source": [
    "# https://w.wiki/AfZx\n",
    "# \n",
    "SELECT DISTINCT ?human ?humanLabel ?fatherLabel ?motherLabel\n",
    "WHERE\n",
    "{\n",
    "{wd:Q81731 wdt:P40* ?human .\n",
    "    ?human wdt:P31 wd:Q5 .      \n",
    "    OPTIONAL{?human wdt:P22 ?father .}\n",
    "    OPTIONAL{?human wdt:P25 ?mother .}\n",
    "}\n",
    "UNION\n",
    "{\n",
    "wd:Q81731 wdt:P22* ?human .\n",
    "    ?human wdt:P31 wd:Q5 .      \n",
    "    OPTIONAL{?human wdt:P22 ?father .}\n",
    "    OPTIONAL{?human wdt:P25 ?mother .}\n",
    "}\n",
    "UNION\n",
    "{\n",
    "wd:Q81731 wdt:P25* ?human .\n",
    "    ?human wdt:P31 wd:Q5 .      \n",
    "    OPTIONAL{?human wdt:P22 ?father .}\n",
    "    OPTIONAL{?human wdt:P25 ?mother .}\n",
    "}\n",
    "SERVICE wikibase:label { bd:serviceParam wikibase:language \"[AUTO_LANGUAGE],en\" }\n",
    "  }\n",
    "# LIMIT 100"
   ]
  },
  {
   "cell_type": "code",
   "execution_count": null,
   "metadata": {},
   "outputs": [],
   "source": [
    "# wikidata API からJSONデータを取得\n",
    "import requests\n",
    "import re\n",
    "# loc=\"https://query.wikidata.org/sparql?query=SELECT%20DISTINCT%20%3Fhuman%20%3Ffather%20%3Fmother%20%3Fsex%20%3FhumanLabel%20%3FfatherLabel%20%3FmotherLabel%0AWHERE%0A%7B%0A%7Bwd%3AQ81731%20wdt%3AP40%2a%20%3Fhuman%20.%0A%20%20%20%20%3Fhuman%20wdt%3AP31%20wd%3AQ5%20.%20%20%20%20%20%20%0A%20%20%20%20OPTIONAL%7B%3Fhuman%20wdt%3AP22%20%3Ffather%20.%7D%0A%20%20%20%20OPTIONAL%7B%3Fhuman%20wdt%3AP25%20%3Fmother%20.%7D%0A%20%20%20%20OPTIONAL%7B%3Fhuman%20wdt%3AP21%20%3Fsex%20.%7D%0A%7D%0AUNION%0A%7B%0Awd%3AQ81731%20wdt%3AP22%2B%20%3Fhuman%20.%0A%20%20%20%20%3Fhuman%20wdt%3AP31%20wd%3AQ5%20.%20%20%20%20%20%20%0A%20%20%20%20OPTIONAL%7B%3Fhuman%20wdt%3AP22%20%3Ffather%20.%7D%0A%20%20%20%20OPTIONAL%7B%3Fhuman%20wdt%3AP25%20%3Fmother%20.%7D%0A%20%20%20%20OPTIONAL%7B%3Fhuman%20wdt%3AP21%20%3Fsex%20.%7D%0A%7D%0AUNION%0A%7B%0Awd%3AQ81731%20wdt%3AP25%2B%20%3Fhuman%20.%0A%20%20%20%20%3Fhuman%20wdt%3AP31%20wd%3AQ5%20.%20%20%20%20%20%20%0A%20%20%20%20OPTIONAL%7B%3Fhuman%20wdt%3AP22%20%3Ffather%20.%7D%0A%20%20%20%20OPTIONAL%7B%3Fhuman%20wdt%3AP25%20%3Fmother%20.%7D%0A%20%20%20%20OPTIONAL%7B%3Fhuman%20wdt%3AP21%20%3Fsex%20.%7D%0A%7D%0ASERVICE%20wikibase%3Alabel%20%7B%20bd%3AserviceParam%20wikibase%3Alanguage%20%22%5BAUTO_LANGUAGE%5D%2Cja%22%20%7D%0A%7D&format=json\"\n",
    "# \"https://query.wikidata.org/sparql?query=SELECT%20DISTINCT%20%3Fhuman%20%3Ffather%20%3Fmother%20%3Fsex%0AWHERE%0A%7B%0A%7Bwd%3AQ81731%20wdt%3AP40%2a%20%3Fhuman%20.%0A%20%20%20%20%3Fhuman%20wdt%3AP31%20wd%3AQ5%20.%20%20%20%20%20%20%0A%20%20%20%20OPTIONAL%7B%3Fhuman%20wdt%3AP22%20%3Ffather%20.%7D%0A%20%20%20%20OPTIONAL%7B%3Fhuman%20wdt%3AP25%20%3Fmother%20.%7D%0A%20%20%20%20OPTIONAL%7B%3Fhuman%20wdt%3AP21%20%3Fsex%20.%7D%0A%7D%0AUNION%0A%7B%0Awd%3AQ81731%20wdt%3AP22%2a%20%3Fhuman%20.%0A%20%20%20%20%3Fhuman%20wdt%3AP31%20wd%3AQ5%20.%20%20%20%20%20%20%0A%20%20%20%20OPTIONAL%7B%3Fhuman%20wdt%3AP22%20%3Ffather%20.%7D%0A%20%20%20%20OPTIONAL%7B%3Fhuman%20wdt%3AP25%20%3Fmother%20.%7D%0A%20%20%20%20OPTIONAL%7B%3Fhuman%20wdt%3AP21%20%3Fsex%20.%7D%0A%7D%0AUNION%0A%7B%0Awd%3AQ81731%20wdt%3AP25%2a%20%3Fhuman%20.%0A%20%20%20%20%3Fhuman%20wdt%3AP31%20wd%3AQ5%20.%20%20%20%20%20%20%0A%20%20%20%20OPTIONAL%7B%3Fhuman%20wdt%3AP22%20%3Ffather%20.%7D%0A%20%20%20%20OPTIONAL%7B%3Fhuman%20wdt%3AP25%20%3Fmother%20.%7D%0A%20%20%20%20OPTIONAL%7B%3Fhuman%20wdt%3AP21%20%3Fsex%20.%7D%0A%7D%0A%7D&format=json\"\n",
    "def wikidata2json(loc):\n",
    "    header= {\"content-type\": \"application/json\"}\n",
    "    r = requests.get(loc,headers=header)\n",
    "    return r.json()\n"
   ]
  },
  {
   "cell_type": "code",
   "execution_count": null,
   "metadata": {},
   "outputs": [],
   "source": [
    "# JSONからリストを生成\n",
    "def json2list(data):\n",
    "    print(type(data))\n",
    "    # print(data['results']['bindings'])\n",
    "    data_human = data['results']['bindings']\n",
    "    list_human = []\n",
    "    paren = re.compile('[\\(\\)（） ]') \n",
    "    for i in data_human:\n",
    "        # print(i)\n",
    "        human = i['humanLabel']['value']\n",
    "        human_id = i['human']['value'].replace(r'http://www.wikidata.org/entity/', '')\n",
    "        '''\n",
    "        try:\n",
    "            father = i['fatherLabel']['value']\n",
    "        except KeyError:\n",
    "            father = 'tetenashi'\n",
    "        '''\n",
    "        # ネストされたdictにアクセスしたいが、存在しないときはNone\n",
    "        father = i.get('fatherLabel', {}).get('value', i['humanLabel']['value']+'の父')\n",
    "        father_id = i.get('father', {}).get('value', human_id +'_father').replace(r'http://www.wikidata.org/entity/', '')\n",
    "        mother = i.get('motherLabel', {}).get('value', i['humanLabel']['value']+'の母')\n",
    "        mother_id = i.get('mother', {}).get('value', human_id +'_mother').replace(r'http://www.wikidata.org/entity/', '')\n",
    "        human = paren.sub('//', human) # △などmarmed で使えない文字がいくつかある\n",
    "        father = paren.sub('//', father)\n",
    "        mother = paren.sub('//', mother)\n",
    "        # mother = i.get('mother', {}).get('value', 0)\n",
    "        sex_qid = i.get('sex', {}).get('value', 0)\n",
    "        if sex_qid == 'http://www.wikidata.org/entity/Q6581072':\n",
    "            sex = 2\n",
    "        elif sex_qid == 'http://www.wikidata.org/entity/Q6581097':\n",
    "            sex = 1\n",
    "        else:\n",
    "            sex = 0\n",
    "        # print(human)\n",
    "        # print(father, mother)\n",
    "        list_human.append(['FA00', human, father, mother, sex, 0, human_id, father_id, mother_id])\n",
    "    return list_human\n",
    "\n",
    "# print(list_human)\n",
    "# 配列を pandas dataframeに変換\n",
    "# import pandas as pd\n",
    "# df_human = pd.DataFrame(list_human, columns=['#Family_ID','Individual_ID','Paternal_ID','Maternal_ID','Sex','Phenotype'])\n",
    "# df_human[0:3]"
   ]
  },
  {
   "cell_type": "code",
   "execution_count": null,
   "metadata": {},
   "outputs": [],
   "source": [
    "# 父、母の行が存在しない場合に作成して追加\n",
    "# print(df_human.query('Individual_ID==\"http://www.wikidata.org/entity/Q11673205\"'))\n",
    "# df_human[df_human.Individual_ID.map(lambda x: x != 'http://www.wikidata.org/entity/Q11673205')]\n",
    "def single_parent(df_human):\n",
    "    # new_row = ['Family_ID','Individual_ID','Paternal_ID','Maternal_ID','Sex','Phenotype','human','father','mother']\n",
    "    for index, row in df_human.iterrows():\n",
    "        # DataFrame全体ですべての値に存在しなければTrue、そうでなければFalse\n",
    "        # https://codeseterpie.com/blog/80n4bt37f/\n",
    "        # 母不在の場合\n",
    "        if bool(df_human.Individual_ID.ne(row['Maternal_ID']).all().all()):\n",
    "            new_row = ['FA00', row['Paternal_ID'], 0, 0, 2, 0, 0, 0, 0]\n",
    "            df_human.loc[str(index)+'_nomaternal'] = new_row\n",
    "        # 父不在の場合\n",
    "        if bool(df_human.Individual_ID.ne(row['Paternal_ID']).all().all()):\n",
    "            new_row = ['FA00', row['Paternal_ID'], 0, 0, 1, 0, 0, 0, 0]\n",
    "            df_human.loc[str(index)+'_nopaternal'] = new_row\n",
    "    #条件にマッチしたIndexを取得\n",
    "    drop_index = df_human.index[df_human['Individual_ID'] == 0]\n",
    "    #条件にマッチしたIndexを削除\n",
    "    df_human = df_human.drop(drop_index)\n",
    "    return df_human\n",
    "\n"
   ]
  },
  {
   "cell_type": "code",
   "execution_count": null,
   "metadata": {},
   "outputs": [],
   "source": [
    "# spouse(配偶者)列追加\n",
    "# xxx_df_human['spouse'] = df_human['Paternal_ID'].to_sgring() + '_' +  df_human['Maternal_ID'].to_string()\n",
    "# Pandasで複数の列を値をもとに、新しい列を任意の関数で定義する\n",
    "def add_spouse(df_human):\n",
    "    df_human['spouse'] = df_human.apply(lambda x: f\"{x['father']}-{x['mother']}\", axis=1)\n",
    "    return df_human\n",
    "\n"
   ]
  },
  {
   "cell_type": "markdown",
   "metadata": {},
   "source": [
    "# pedigree file\n",
    "\n",
    "https://jp.support.illumina.com/content/dam/illumina-support/help/Illumina_DRAGEN_Bio_IT_Platform_v3_7_1000000141465/Content/SW/Informatics/Dragen/PedigreeMode_fDG.htm\n",
    "'#Family_ID Individual_ID   Paternal_ID    Maternal_ID    Sex Phenotype\n",
    "\n",
    "\n",
    "https://www.mv.helsinki.fi/home/tsjuntun/autogscan/pedigreefile.html\n",
    "- 列1: 家系図識別子{識別子は数字でもよい\n",
    "- 列2: 個人のID {または文字列\n",
    "- 列3: 個人の父親 { 個人が創設者である場合は、\n",
    "- 列 4: 個人の母親 { 各列に 0 があります。\n",
    "- 列5: 性別{1 = 男性、2 = 女性、性別不明は不可\n",
    "- 6列目以降: 遺伝データ { 疾患とマーカー表現型\n",
    "\n",
    "https://github.com/moonso/ped_parser\n",
    "- Family_ID - '.' or '0' for unknown\n",
    "- Individual_ID - '.' or '0' for unknown\n",
    "- Paternal_ID - '.' or '0' for unknown\n",
    "- Maternal_ID - '.' or '0' for unknown\n",
    "- Sex - '1'=male; '2'=female; ['other', '0', '.']=unknown\n",
    "- Phenotype - '1'=unaffected, '2'=affected, ['-9', '0', '.']= missing\n"
   ]
  },
  {
   "cell_type": "code",
   "execution_count": null,
   "metadata": {},
   "outputs": [],
   "source": [
    "### リストを既存のcsvに出力する（csvモジュール）\n",
    "'''\n",
    "import csv\n",
    "csv_path = r\"test.ped\"\n",
    "header = ['#Family_ID','Individual_ID','Paternal_ID','Maternal_ID','Sex','Phenotype']\n",
    "\n",
    "with open(csv_path, 'w', newline='') as file:\n",
    "    writer = csv.writer(file, delimiter = \"\\t\")\n",
    "    writer.writerow(header)\n",
    "    writer.writerows(list_human)\n",
    "'''"
   ]
  },
  {
   "cell_type": "code",
   "execution_count": null,
   "metadata": {},
   "outputs": [],
   "source": [
    "# dataframe を CSV（タブ区切り）に出力\n",
    "# df_human.to_csv(r'test3.ped', sep='\\t', index=False)"
   ]
  },
  {
   "cell_type": "markdown",
   "metadata": {},
   "source": [
    "# pedファイルをdotファイルに変換\n",
    "python ped_to_dot.py test2.ped > test2.dot\n",
    "\n",
    "\n",
    "# graphviz dotコマンド\n",
    "dot -Tpng -o test2.png test2.dot\n",
    "ot -Tpng -Nfontname=\"MS Gothic\" -Efontname=\"MS Gothic\" -Gfontname=\"MS Gothic\" -o test2.png test2.dot \n",
    "\n"
   ]
  },
  {
   "cell_type": "markdown",
   "metadata": {},
   "source": [
    "# pedデータ（dataframe）から、mermaid記法に変換  \n",
    "\n",
    "- IDとLabel両方：\n",
    "https://query.wikidata.org/#SELECT%20DISTINCT%20%20%3Fhuman%20%3Ffather%20%3Fmother%20%3FhumanLabel%20%3FfatherLabel%20%3FmotherLabel%20%3Fsex%0AWHERE%0A%7B%0A%7Bwd%3AQ81731%20wdt%3AP40%2a%20%3Fhuman%20.%0A%20%20%20%20%3Fhuman%20wdt%3AP31%20wd%3AQ5%20.%20%20%20%20%20%20%0A%20%20%20%20OPTIONAL%7B%3Fhuman%20wdt%3AP22%20%3Ffather%20.%7D%0A%20%20%20%20OPTIONAL%7B%3Fhuman%20wdt%3AP25%20%3Fmother%20.%7D%0A%20%20%20%20OPTIONAL%7B%3Fhuman%20wdt%3AP21%20%3Fsex%20.%7D%0A%7D%0AUNION%0A%7B%0Awd%3AQ81731%20wdt%3AP22%2a%20%3Fhuman%20.%0A%20%20%20%20%3Fhuman%20wdt%3AP31%20wd%3AQ5%20.%20%20%20%20%20%20%0A%20%20%20%20OPTIONAL%7B%3Fhuman%20wdt%3AP22%20%3Ffather%20.%7D%0A%20%20%20%20OPTIONAL%7B%3Fhuman%20wdt%3AP25%20%3Fmother%20.%7D%0A%20%20%20%20OPTIONAL%7B%3Fhuman%20wdt%3AP21%20%3Fsex%20.%7D%0A%7D%0AUNION%0A%7B%0Awd%3AQ81731%20wdt%3AP25%2a%20%3Fhuman%20.%0A%20%20%20%20%3Fhuman%20wdt%3AP31%20wd%3AQ5%20.%20%20%20%20%20%20%0A%20%20%20%20OPTIONAL%7B%3Fhuman%20wdt%3AP22%20%3Ffather%20.%7D%0A%20%20%20%20OPTIONAL%7B%3Fhuman%20wdt%3AP25%20%3Fmother%20.%7D%0A%20%20%20%20OPTIONAL%7B%3Fhuman%20wdt%3AP21%20%3Fsex%20.%7D%0A%20%20%7D%0A%0A%20SERVICE%20wikibase%3Alabel%20%7B%20bd%3AserviceParam%20wikibase%3Alanguage%20%22%5BAUTO_LANGUAGE%5D%2Cen%22%20%7D%0A%7D\n",
    "\n",
    "- クエリ\n",
    "https://query.wikidata.org/sparql?query=SELECT%20DISTINCT%20%20%3Fhuman%20%3Ffather%20%3Fmother%20%3FhumanLabel%20%3FfatherLabel%20%3FmotherLabel%20%3Fsex%0AWHERE%0A%7B%0A%7Bwd%3AQ81731%20wdt%3AP40%2a%20%3Fhuman%20.%0A%20%20%20%20%3Fhuman%20wdt%3AP31%20wd%3AQ5%20.%20%20%20%20%20%20%0A%20%20%20%20OPTIONAL%7B%3Fhuman%20wdt%3AP22%20%3Ffather%20.%7D%0A%20%20%20%20OPTIONAL%7B%3Fhuman%20wdt%3AP25%20%3Fmother%20.%7D%0A%20%20%20%20OPTIONAL%7B%3Fhuman%20wdt%3AP21%20%3Fsex%20.%7D%0A%7D%0AUNION%0A%7B%0Awd%3AQ81731%20wdt%3AP22%2a%20%3Fhuman%20.%0A%20%20%20%20%3Fhuman%20wdt%3AP31%20wd%3AQ5%20.%20%20%20%20%20%20%0A%20%20%20%20OPTIONAL%7B%3Fhuman%20wdt%3AP22%20%3Ffather%20.%7D%0A%20%20%20%20OPTIONAL%7B%3Fhuman%20wdt%3AP25%20%3Fmother%20.%7D%0A%20%20%20%20OPTIONAL%7B%3Fhuman%20wdt%3AP21%20%3Fsex%20.%7D%0A%7D%0AUNION%0A%7B%0Awd%3AQ81731%20wdt%3AP25%2a%20%3Fhuman%20.%0A%20%20%20%20%3Fhuman%20wdt%3AP31%20wd%3AQ5%20.%20%20%20%20%20%20%0A%20%20%20%20OPTIONAL%7B%3Fhuman%20wdt%3AP22%20%3Ffather%20.%7D%0A%20%20%20%20OPTIONAL%7B%3Fhuman%20wdt%3AP25%20%3Fmother%20.%7D%0A%20%20%20%20OPTIONAL%7B%3Fhuman%20wdt%3AP21%20%3Fsex%20.%7D%0A%20%20%7D%0A%0A%20SERVICE%20wikibase%3Alabel%20%7B%20bd%3AserviceParam%20wikibase%3Alanguage%20%22%5BAUTO_LANGUAGE%5D%2Cen%22%20%7D%0A%7D&format=json\n"
   ]
  },
  {
   "cell_type": "code",
   "execution_count": null,
   "metadata": {},
   "outputs": [],
   "source": [
    "loc ='https://query.wikidata.org/sparql?query=SELECT%20DISTINCT%20%20%3Fhuman%20%3Ffather%20%3Fmother%20%3FhumanLabel%20%3FfatherLabel%20%3FmotherLabel%20%3Fsex%0AWHERE%0A%7B%0A%7Bwd%3AQ81731%20wdt%3AP40%2a%20%3Fhuman%20.%0A%20%20%20%20%3Fhuman%20wdt%3AP31%20wd%3AQ5%20.%20%20%20%20%20%20%0A%20%20%20%20OPTIONAL%7B%3Fhuman%20wdt%3AP22%20%3Ffather%20.%7D%0A%20%20%20%20OPTIONAL%7B%3Fhuman%20wdt%3AP25%20%3Fmother%20.%7D%0A%20%20%20%20OPTIONAL%7B%3Fhuman%20wdt%3AP21%20%3Fsex%20.%7D%0A%7D%0AUNION%0A%7B%0Awd%3AQ81731%20wdt%3AP22%2a%20%3Fhuman%20.%0A%20%20%20%20%3Fhuman%20wdt%3AP31%20wd%3AQ5%20.%20%20%20%20%20%20%0A%20%20%20%20OPTIONAL%7B%3Fhuman%20wdt%3AP22%20%3Ffather%20.%7D%0A%20%20%20%20OPTIONAL%7B%3Fhuman%20wdt%3AP25%20%3Fmother%20.%7D%0A%20%20%20%20OPTIONAL%7B%3Fhuman%20wdt%3AP21%20%3Fsex%20.%7D%0A%7D%0AUNION%0A%7B%0Awd%3AQ81731%20wdt%3AP25%2a%20%3Fhuman%20.%0A%20%20%20%20%3Fhuman%20wdt%3AP31%20wd%3AQ5%20.%20%20%20%20%20%20%0A%20%20%20%20OPTIONAL%7B%3Fhuman%20wdt%3AP22%20%3Ffather%20.%7D%0A%20%20%20%20OPTIONAL%7B%3Fhuman%20wdt%3AP25%20%3Fmother%20.%7D%0A%20%20%20%20OPTIONAL%7B%3Fhuman%20wdt%3AP21%20%3Fsex%20.%7D%0A%20%20%7D%0A%0A%20SERVICE%20wikibase%3Alabel%20%7B%20bd%3AserviceParam%20wikibase%3Alanguage%20%22%5BAUTO_LANGUAGE%5D%2Cja%22%20%7D%0A%7D&format=json'\n",
    "# wikidataからjsonを取得\n",
    "data =wikidata2json(loc)\n",
    "# jsonから配列に変換\n",
    "list_human = json2list(data)\n",
    "# 配列を pandas dataframeに変換\n",
    "import pandas as pd\n",
    "df_human = pd.DataFrame(list_human, columns=['#Family_ID','Individual_ID','Paternal_ID','Maternal_ID','Sex','Phenotype','human','father','mother'])\n",
    "df_human = single_parent(df_human)\n",
    "df_human[10:]"
   ]
  },
  {
   "cell_type": "code",
   "execution_count": null,
   "metadata": {},
   "outputs": [],
   "source": [
    "# 配偶者蘭を追加\n",
    "df_human = add_spouse(df_human)\n",
    "df_human.head()"
   ]
  },
  {
   "cell_type": "code",
   "execution_count": null,
   "metadata": {},
   "outputs": [],
   "source": [
    "# print(df_human[df_human.duplicated()])\n",
    "df_human.drop_duplicates(inplace=True)"
   ]
  },
  {
   "cell_type": "code",
   "execution_count": null,
   "metadata": {},
   "outputs": [],
   "source": [
    "# import numpy as np\n",
    "\n",
    "#条件にマッチしたIndexを取得\n",
    "def drop_index(df):\n",
    "    df_drop_index= df.index[df['spouse'] == '0-0']\n",
    "    #条件にマッチしたIndexを削除\n",
    "    return df.drop(df_drop_index)\n",
    "\n",
    "# 配偶者spouseから、子個人Individual へ\n",
    "person_spouse = df_human[['spouse','Individual_ID']]\n",
    "person_spouse = drop_index(person_spouse)\n",
    "# person_spouse = person_spouse.reindex(columns=['spouse','Individual_ID'])\n",
    "# person_spouse\n",
    "# 配列にする\n",
    "person_spouse_list = person_spouse.values.tolist()\n",
    "\n",
    "# 父から配偶者spouse\n",
    "paternal_spouse = df_human[['Paternal_ID','spouse']]\n",
    "paternal_spouse = drop_index(paternal_spouse)\n",
    "# paternal_spouse\n",
    "paternal_spouse_list = paternal_spouse.values.tolist()\n",
    "# print(paternal_spouse_list)\n",
    "\n",
    "# 母から配偶者\n",
    "maternal_spouse = df_human[['Maternal_ID','spouse']]\n",
    "maternal_spouse = drop_index(maternal_spouse)\n",
    "# maternal_spouse\n",
    "maternal_spouse_list = maternal_spouse.values.tolist()  #.str.spli(',')  #   .to_numpy() #.values\n",
    "# print(maternal_spouse_list)\n",
    "\n",
    "# print(person_spouse_list + paternal_spouse_list + maternal_spouse_list)\n",
    "pedigree_list = person_spouse_list + paternal_spouse_list + maternal_spouse_list\n",
    "print(pedigree_list)\n"
   ]
  },
  {
   "cell_type": "code",
   "execution_count": null,
   "metadata": {},
   "outputs": [],
   "source": [
    "for item in pedigree_list:\n",
    "    # print(item)\n",
    "    print(item[0] + ' --> ' + item[1])\n",
    "\n"
   ]
  },
  {
   "cell_type": "markdown",
   "metadata": {},
   "source": [
    "# networkx "
   ]
  },
  {
   "cell_type": "code",
   "execution_count": null,
   "metadata": {},
   "outputs": [],
   "source": [
    "# https://3pysci.com/networkx-7/\n",
    "import networkx as nx\n",
    "\n",
    "G = nx.Graph()\n",
    "\n",
    "'''\n",
    "G.add_node('B')\n",
    "G.add_node('C')\n",
    "G.add_node('D')\n",
    "'''\n",
    "G.add_node(u'大弐三位')\n",
    "\n",
    "G.add_edge('のぶたか', '紫式部')\n",
    "G.add_edge('大弐三位', '紫式部')\n",
    "G.add_edge('のぶたか', '大弐三位')\n",
    "G.add_edge('藤原兼隆', '大弐三位')\n",
    "G.add_edge('大弐三位', '源良宗の妻')\n",
    "\n",
    "nx.draw(G, node_color='lightblue', with_labels = True, font_family='Meiryo')\n"
   ]
  },
  {
   "cell_type": "code",
   "execution_count": null,
   "metadata": {},
   "outputs": [],
   "source": [
    "adjacency_dict = {'紫式部': ['ためとき', 'ためとき妻'], '大弐三位': ['紫式部', 'のぶたか'], '源良宗の妻': ['藤原兼隆', '大弐三位']}\n",
    "H = nx.Graph(adjacency_dict)  # create a Graph dict mapping nodes to nbrs\n",
    "list(H.edges())\n",
    "\n",
    "nx.draw(H, node_color='lightblue', with_labels = True, font_family='Meiryo')\n"
   ]
  },
  {
   "cell_type": "code",
   "execution_count": null,
   "metadata": {},
   "outputs": [],
   "source": [
    "# 父母が０をdrop 元のじゃないか？\n",
    "df_human.columns\n",
    "df_human_2 = df_human[df_human['Paternal_ID'] != 0]\n",
    "df_human_2 = df_human_2[df_human_2['Maternal_ID'] != 0]\n",
    "df_human_2[['Individual_ID','Paternal_ID','Maternal_ID']] #.to_dict()\n",
    "\n",
    "# 'Paternal_ID','Maternal_ID'のタプルを作って、辞書にする\n",
    "# print(dict(zip(df_human_2['Individual_ID'], df_human_2['Paternal_ID'])))\n",
    "df_human_2['tuple'] = list(zip(df_human_2['Paternal_ID'], df_human_2['Maternal_ID']))\n",
    "adjacency_dict = dict(zip(df_human_2['Individual_ID'], df_human_2['tuple']))\n",
    "adjacency_dict\n"
   ]
  },
  {
   "cell_type": "code",
   "execution_count": null,
   "metadata": {},
   "outputs": [],
   "source": [
    "# adjacency_dict = {'紫式部': ['ためとき', 'ためとき妻'], '大弐三位': ['紫式部', 'のぶたか'], '源良宗の妻': ['藤原兼隆', '大弐三位']}\n",
    "# H = nx.Graph(adjacency_dict)  # create a Graph dict mapping nodes to nbrs\n",
    "H = nx.DiGraph(adjacency_dict)  # 有向グラフ (Directed Graph)\n",
    "list(H.edges())\n",
    "\n",
    "nx.draw(H, node_color='lightblue', with_labels = True, font_family='Meiryo')\n",
    "H\n"
   ]
  },
  {
   "cell_type": "code",
   "execution_count": null,
   "metadata": {},
   "outputs": [],
   "source": [
    "# 重要性の小さいエッジおよびノードを除去\n",
    "#https://qiita.com/Blaster36/items/fcfe892fd90cd0c0bed3\n",
    "# 今回はweightをつけていないので関係ない\n",
    "\n",
    "print(\"networkx version:{}\".format(nx.__version__))\n",
    "\n",
    "# list(H.nodes)\n",
    "# list(H.edges)\n",
    "# list(H.adj['紫式部'])  # or list(G.neighbors(1))\n",
    "# # 重要性の小さいエッジおよびノードを除去\n",
    "#https://qiita.com/Blaster36/items/fcfe892fd90cd0c0bed3\n",
    "# 今回はweightをつけていないので関係ない\n",
    "\n",
    "# print(\"networkx version:{}\".format(nx.__version__))\n",
    "## networkx version:3.3\n",
    "\n",
    "# list(H.nodes)\n",
    "# list(H.edges)\n",
    "# list(H.adj['紫式部'])  # or list(G.neighbors(1))\n",
    "## ['藤原為時', '藤原為信の娘////藤原為時の妻//']\n",
    "\n",
    "# スタート地点からの最短経路長が、ある長さ未満に収まるゴール地点とその経路\n",
    "print(nx.single_source_shortest_path(H, source='大弐三位', cutoff=2))\n",
    "{'紫式部': ['紫式部'], '藤原為時': ['紫式部', '藤原為時'], '藤原為信の娘////藤原為時の妻//': ['紫式部', '藤原為信の娘////藤原為時の妻//'], '藤原雅正': ['紫式部', '藤原為時', '藤原雅正'], '藤原定方の娘////藤原雅正正室//': ['紫式部', '藤原為時', '藤原定方の娘////藤原雅正正室//'], '藤原為信////藤原文範の子//': ['紫式部', '藤原為信の娘////藤原為時の妻//', '藤原為信////藤原文範の子//'], '藤原為信の娘////藤原為時の妻//の母': ['紫式部', '藤原為信の娘////藤原為時の妻//', '藤原為信の娘////藤原為時の妻//の母']}\n",
    "\n",
    "# スタート地点からゴール地点までのすべての単純路 (同じ頂点を通らないパス)\n",
    "print(list(nx.all_simple_paths(H, source='藤原宣孝', target='大弐三位')))\n"
   ]
  },
  {
   "cell_type": "code",
   "execution_count": null,
   "metadata": {},
   "outputs": [],
   "source": [
    "#  nx.ego_graphを用いて2-hopの候補を抽出する\n",
    "# 指定された半径内のノードを中心とした近傍の誘導サブグラフを返す\n",
    "ego_G = nx.ego_graph(H, '紫式部', radius=6, undirected=True, center=True)\n",
    "family = [c for c in ego_G.nodes]\n",
    "family\n",
    "# nx.draw(ego_G, node_color='lightblue', with_labels = True, font_family='Meiryo')\n",
    "# circular_layout(), draw_kamada_kawai(),draw_planar, Gdraw_shell\n",
    "# nx.draw(ego_G, pos=nx.draw_spectral(ego_G), node_color='r', edge_color='b', with_labels = True, font_family='Meiryo')\n",
    "# candidates_dict = {}\n",
    "# candidates = [c for c in ego_G.nodes if c != '紫式部']\n",
    "# candidates_dict['紫式部'] = candidates\n",
    "# candidates_dict = candidates\n",
    "# candidates_dict\n",
    "\n"
   ]
  },
  {
   "cell_type": "code",
   "execution_count": 28,
   "metadata": {},
   "outputs": [
    {
     "name": "stdout",
     "output_type": "stream",
     "text": [
      "    #Family_ID Individual_ID Paternal_ID         Maternal_ID  Sex  Phenotype  \\\n",
      "105       FA00          藤原為時        藤原雅正  藤原定方の娘////藤原雅正正室//    1          0   \n",
      "111       FA00          藤原雅正        藤原兼輔              藤原雅正の母    1          0   \n",
      "117       FA00          藤原冬嗣       藤原内麻呂                百済永継    1          0   \n",
      "126       FA00          藤原利基        藤原良門              藤原利基の母    1          0   \n",
      "133       FA00          藤原兼輔        藤原利基      伴氏////藤原利基の妻//    1          0   \n",
      "\n",
      "         human     father            mother                     spouse  \\\n",
      "105    Q759338   Q3090632        Q106255407        Q3090632-Q106255407   \n",
      "111   Q3090632   Q1473290   Q3090632_mother   Q1473290-Q3090632_mother   \n",
      "117   Q3090616  Q11623088         Q11580786        Q11623088-Q11580786   \n",
      "126  Q11623089   Q5507548  Q11623089_mother  Q5507548-Q11623089_mother   \n",
      "133   Q1473290  Q11623089        Q106255377       Q11623089-Q106255377   \n",
      "\n",
      "                          tuple  \n",
      "105  (藤原雅正, 藤原定方の娘////藤原雅正正室//)  \n",
      "111              (藤原兼輔, 藤原雅正の母)  \n",
      "117               (藤原内麻呂, 百済永継)  \n",
      "126              (藤原良門, 藤原利基の母)  \n",
      "133      (藤原利基, 伴氏////藤原利基の妻//)  \n"
     ]
    }
   ],
   "source": [
    "# in演算子で特定の値を含む行を抽出（isin()と同等）\n",
    "df_human_3 = df_human_2[df_human_2['Individual_ID'].isin(family)]\n",
    "print(df_human_3.tail())"
   ]
  },
  {
   "cell_type": "code",
   "execution_count": 32,
   "metadata": {},
   "outputs": [
    {
     "name": "stdout",
     "output_type": "stream",
     "text": [
      "[['Q106560732-Q110469295_mother', '源雅賢'], ['Q106567994-Q110809684_mother', '源資信'], ['Q106567994-Q106708607_mother', '源有資'], ['Q11623084-Q3012130', '源良宗の妻'], ['Q22126741-Q106450680', '源資賢'], ['Q11564313-Q108602600_mother', '源資賢の娘////藤原公清の妻//'], ['Q22125080-Q106449878_mother', '高階業子'], ['Q18233501-Q3012130', '高階為家'], ['Q281833-Q106485436', '平重盛'], ['Q95162020-Q106449878', '源顕重'], ['Q22125080-Q106449821', '高階為章'], ['Q11355819-Q106510244', '三条実長'], ['Q106450042-Q106449920', '高階基章'], ['Q95162020-Q106449878', '源顕親'], ['Q106450042-Q106449920', '源為忠'], ['Q759338-Q106410752', '紫式部'], ['Q11564313-Q106560732_mother', '源通家'], ['Q95162020-Q106449878', '源顕俊'], ['Q18233501-Q3012130', '高階成章の娘////藤原通宗の妻//'], ['Q11564313-Q106567983_mother', '源資賢の娘////藤原定能室//'], ['Q22125080-Q106450680_mother', '高階為家の娘////源有賢室//'], ['Q11564370-Q106629936_mother', '源俊光'], ['Q17213726-Q108602600', '八条実俊'], ['Q281833-Q106485436', '平基盛'], ['Q95162020-Q110746126', '源顕重'], ['Q11623184-Q81731', '大弐三位'], ['Q106629936-Q95162023_mother', '源家俊'], ['Q11564313-Q106567987', '源時賢'], ['Q11564370-Q106510244_mother', '源顕親の娘////三条公行室//'], ['Q11673205-Q106485436_mother', '高階基章の女////平清盛正室//'], ['Q22125080-Q106449920_mother', '高階為家の娘////源家実の妻//'], ['Q95162020-Q110746126', '源顕俊'], ['Q106410582-Q106410752_mother', '藤原為信の娘////藤原為時の妻//'], ['Q3090616-Q106235179', '藤原良門'], ['Q3090632-Q106255407', '藤原為時'], ['Q1473290-Q3090632_mother', '藤原雅正'], ['Q11623088-Q11580786', '藤原冬嗣'], ['Q5507548-Q11623089_mother', '藤原利基'], ['Q11623089-Q106255377', '藤原兼輔'], ['源通家', 'Q106560732-Q110469295_mother'], ['源時賢', 'Q106567994-Q110809684_mother'], ['源時賢', 'Q106567994-Q106708607_mother'], ['藤原兼隆', 'Q11623084-Q3012130'], ['源有賢', 'Q22126741-Q106450680'], ['源資賢', 'Q11564313-Q108602600_mother'], ['高階為家', 'Q22125080-Q106449878_mother'], ['高階成章', 'Q18233501-Q3012130'], ['平清盛', 'Q281833-Q106485436'], ['源雅俊', 'Q95162020-Q106449878'], ['高階為家', 'Q22125080-Q106449821'], ['三条公行', 'Q11355819-Q106510244'], ['源家実', 'Q106450042-Q106449920'], ['源雅俊', 'Q95162020-Q106449878'], ['源家実', 'Q106450042-Q106449920'], ['藤原為時', 'Q759338-Q106410752'], ['源資賢', 'Q11564313-Q106560732_mother'], ['源雅俊', 'Q95162020-Q106449878'], ['高階成章', 'Q18233501-Q3012130'], ['源資賢', 'Q11564313-Q106567983_mother'], ['高階為家', 'Q22125080-Q106450680_mother'], ['源顕親', 'Q11564370-Q106629936_mother'], ['藤原公清', 'Q17213726-Q108602600'], ['平清盛', 'Q281833-Q106485436'], ['源雅俊', 'Q95162020-Q110746126'], ['藤原宣孝', 'Q11623184-Q81731'], ['源俊光', 'Q106629936-Q95162023_mother'], ['源資賢', 'Q11564313-Q106567987'], ['源顕親', 'Q11564370-Q106510244_mother'], ['高階基章', 'Q11673205-Q106485436_mother'], ['高階為家', 'Q22125080-Q106449920_mother'], ['源雅俊', 'Q95162020-Q110746126'], ['藤原為信////藤原文範の子//', 'Q106410582-Q106410752_mother'], ['藤原冬嗣', 'Q3090616-Q106235179'], ['藤原雅正', 'Q3090632-Q106255407'], ['藤原兼輔', 'Q1473290-Q3090632_mother'], ['藤原内麻呂', 'Q11623088-Q11580786'], ['藤原良門', 'Q5507548-Q11623089_mother'], ['藤原利基', 'Q11623089-Q106255377'], ['源雅賢の母', 'Q106560732-Q110469295_mother'], ['源資信の母', 'Q106567994-Q110809684_mother'], ['源有資の母', 'Q106567994-Q106708607_mother'], ['大弐三位', 'Q11623084-Q3012130'], ['高階為家の娘////源有賢室//', 'Q22126741-Q106450680'], ['源資賢の娘////藤原公清の妻//の母', 'Q11564313-Q108602600_mother'], ['高階業子の母', 'Q22125080-Q106449878_mother'], ['大弐三位', 'Q18233501-Q3012130'], ['高階基章の女////平清盛正室//', 'Q281833-Q106485436'], ['高階業子', 'Q95162020-Q106449878'], ['藤原義忠の娘////高階為家室//', 'Q22125080-Q106449821'], ['源顕親の娘////三条公行室//', 'Q11355819-Q106510244'], ['高階為家の娘////源家実の妻//', 'Q106450042-Q106449920'], ['高階業子', 'Q95162020-Q106449878'], ['高階為家の娘////源家実の妻//', 'Q106450042-Q106449920'], ['藤原為信の娘////藤原為時の妻//', 'Q759338-Q106410752'], ['源通家の母', 'Q11564313-Q106560732_mother'], ['高階業子', 'Q95162020-Q106449878'], ['大弐三位', 'Q18233501-Q3012130'], ['源資賢の娘////藤原定能室//の母', 'Q11564313-Q106567983_mother'], ['高階為家の娘////源有賢室//の母', 'Q22125080-Q106450680_mother'], ['源俊光の母', 'Q11564370-Q106629936_mother'], ['源資賢の娘////藤原公清の妻//', 'Q17213726-Q108602600'], ['高階基章の女////平清盛正室//', 'Q281833-Q106485436'], ['備中守為宗の娘////源雅俊の妻//', 'Q95162020-Q110746126'], ['紫式部', 'Q11623184-Q81731'], ['源家俊の母', 'Q106629936-Q95162023_mother'], ['徳大寺公能の娘////源資賢室//', 'Q11564313-Q106567987'], ['源顕親の娘////三条公行室//の母', 'Q11564370-Q106510244_mother'], ['高階基章の女////平清盛正室//の母', 'Q11673205-Q106485436_mother'], ['高階為家の娘////源家実の妻//の母', 'Q22125080-Q106449920_mother'], ['備中守為宗の娘////源雅俊の妻//', 'Q95162020-Q110746126'], ['藤原為信の娘////藤原為時の妻//の母', 'Q106410582-Q106410752_mother'], ['安倍男笠女', 'Q3090616-Q106235179'], ['藤原定方の娘////藤原雅正正室//', 'Q3090632-Q106255407'], ['藤原雅正の母', 'Q1473290-Q3090632_mother'], ['百済永継', 'Q11623088-Q11580786'], ['藤原利基の母', 'Q5507548-Q11623089_mother'], ['伴氏////藤原利基の妻//', 'Q11623089-Q106255377']]\n"
     ]
    }
   ],
   "source": [
    "# dataframe から mermaid用のリストを作る\n",
    "def person2list(df):\n",
    "    # 配偶者spouseから、子個人Individual へ\n",
    "    person_spouse = df[['spouse','Individual_ID']]\n",
    "    person_spouse = drop_index(person_spouse)\n",
    "    # 配列にする\n",
    "    person_spouse_list = person_spouse.values.tolist()\n",
    "\n",
    "    # 父から配偶者spouse\n",
    "    paternal_spouse = df[['Paternal_ID','spouse']]\n",
    "    paternal_spouse = drop_index(paternal_spouse)\n",
    "    # paternal_spouse\n",
    "    paternal_spouse_list = paternal_spouse.values.tolist()\n",
    "\n",
    "    # 母から配偶者\n",
    "    maternal_spouse = df[['Maternal_ID','spouse']]\n",
    "    maternal_spouse = drop_index(maternal_spouse)\n",
    "    # maternal_spouse\n",
    "    maternal_spouse_list = maternal_spouse.values.tolist()  #.str.spli(',')  #   .to_numpy() #.values\n",
    "    # print(maternal_spouse_list)\n",
    "\n",
    "    # print(person_spouse_list + paternal_spouse_list + maternal_spouse_list)\n",
    "    return person_spouse_list + paternal_spouse_list + maternal_spouse_list\n",
    "\n",
    "pedigree_list = person2list(df_human_3)\n",
    "print(pedigree_list)\n"
   ]
  },
  {
   "cell_type": "code",
   "execution_count": 33,
   "metadata": {},
   "outputs": [
    {
     "name": "stdout",
     "output_type": "stream",
     "text": [
      "[['Q106560732-Q110469295_mother', '源雅賢'], ['Q106567994-Q110809684_mother', '源資信'], ['Q106567994-Q106708607_mother', '源有資'], ['Q11623084-Q3012130', '源良宗の妻'], ['Q22126741-Q106450680', '源資賢'], ['Q11564313-Q108602600_mother', '源資賢の娘////藤原公清の妻//'], ['Q22125080-Q106449878_mother', '高階業子'], ['Q18233501-Q3012130', '高階為家'], ['Q281833-Q106485436', '平重盛'], ['Q95162020-Q106449878', '源顕重'], ['Q22125080-Q106449821', '高階為章'], ['Q11355819-Q106510244', '三条実長'], ['Q106450042-Q106449920', '高階基章'], ['Q95162020-Q106449878', '源顕親'], ['Q106450042-Q106449920', '源為忠'], ['Q759338-Q106410752', '紫式部'], ['Q11564313-Q106560732_mother', '源通家'], ['Q95162020-Q106449878', '源顕俊'], ['Q18233501-Q3012130', '高階成章の娘////藤原通宗の妻//'], ['Q11564313-Q106567983_mother', '源資賢の娘////藤原定能室//'], ['Q22125080-Q106450680_mother', '高階為家の娘////源有賢室//'], ['Q11564370-Q106629936_mother', '源俊光'], ['Q17213726-Q108602600', '八条実俊'], ['Q281833-Q106485436', '平基盛'], ['Q95162020-Q110746126', '源顕重'], ['Q11623184-Q81731', '大弐三位'], ['Q106629936-Q95162023_mother', '源家俊'], ['Q11564313-Q106567987', '源時賢'], ['Q11564370-Q106510244_mother', '源顕親の娘////三条公行室//'], ['Q11673205-Q106485436_mother', '高階基章の女////平清盛正室//'], ['Q22125080-Q106449920_mother', '高階為家の娘////源家実の妻//'], ['Q95162020-Q110746126', '源顕俊'], ['Q106410582-Q106410752_mother', '藤原為信の娘////藤原為時の妻//'], ['Q3090616-Q106235179', '藤原良門'], ['Q3090632-Q106255407', '藤原為時'], ['Q1473290-Q3090632_mother', '藤原雅正'], ['Q11623088-Q11580786', '藤原冬嗣'], ['Q5507548-Q11623089_mother', '藤原利基'], ['Q11623089-Q106255377', '藤原兼輔'], ['源通家', 'Q106560732-Q110469295_mother( ):::class1'], ['源時賢', 'Q106567994-Q110809684_mother( ):::class1'], ['源時賢', 'Q106567994-Q106708607_mother( ):::class1'], ['藤原兼隆', 'Q11623084-Q3012130( ):::class1'], ['源有賢', 'Q22126741-Q106450680( ):::class1'], ['源資賢', 'Q11564313-Q108602600_mother( ):::class1'], ['高階為家', 'Q22125080-Q106449878_mother( ):::class1'], ['高階成章', 'Q18233501-Q3012130( ):::class1'], ['平清盛', 'Q281833-Q106485436( ):::class1'], ['源雅俊', 'Q95162020-Q106449878( ):::class1'], ['高階為家', 'Q22125080-Q106449821( ):::class1'], ['三条公行', 'Q11355819-Q106510244( ):::class1'], ['源家実', 'Q106450042-Q106449920( ):::class1'], ['源雅俊', 'Q95162020-Q106449878( ):::class1'], ['源家実', 'Q106450042-Q106449920( ):::class1'], ['藤原為時', 'Q759338-Q106410752( ):::class1'], ['源資賢', 'Q11564313-Q106560732_mother( ):::class1'], ['源雅俊', 'Q95162020-Q106449878( ):::class1'], ['高階成章', 'Q18233501-Q3012130( ):::class1'], ['源資賢', 'Q11564313-Q106567983_mother( ):::class1'], ['高階為家', 'Q22125080-Q106450680_mother( ):::class1'], ['源顕親', 'Q11564370-Q106629936_mother( ):::class1'], ['藤原公清', 'Q17213726-Q108602600( ):::class1'], ['平清盛', 'Q281833-Q106485436( ):::class1'], ['源雅俊', 'Q95162020-Q110746126( ):::class1'], ['藤原宣孝', 'Q11623184-Q81731( ):::class1'], ['源俊光', 'Q106629936-Q95162023_mother( ):::class1'], ['源資賢', 'Q11564313-Q106567987( ):::class1'], ['源顕親', 'Q11564370-Q106510244_mother( ):::class1'], ['高階基章', 'Q11673205-Q106485436_mother( ):::class1'], ['高階為家', 'Q22125080-Q106449920_mother( ):::class1'], ['源雅俊', 'Q95162020-Q110746126( ):::class1'], ['藤原為信////藤原文範の子//', 'Q106410582-Q106410752_mother( ):::class1'], ['藤原冬嗣', 'Q3090616-Q106235179( ):::class1'], ['藤原雅正', 'Q3090632-Q106255407( ):::class1'], ['藤原兼輔', 'Q1473290-Q3090632_mother( ):::class1'], ['藤原内麻呂', 'Q11623088-Q11580786( ):::class1'], ['藤原良門', 'Q5507548-Q11623089_mother( ):::class1'], ['藤原利基', 'Q11623089-Q106255377( ):::class1'], ['源雅賢の母', 'Q106560732-Q110469295_mother( ):::class1'], ['源資信の母', 'Q106567994-Q110809684_mother( ):::class1'], ['源有資の母', 'Q106567994-Q106708607_mother( ):::class1'], ['大弐三位', 'Q11623084-Q3012130( ):::class1'], ['高階為家の娘////源有賢室//', 'Q22126741-Q106450680( ):::class1'], ['源資賢の娘////藤原公清の妻//の母', 'Q11564313-Q108602600_mother( ):::class1'], ['高階業子の母', 'Q22125080-Q106449878_mother( ):::class1'], ['大弐三位', 'Q18233501-Q3012130( ):::class1'], ['高階基章の女////平清盛正室//', 'Q281833-Q106485436( ):::class1'], ['高階業子', 'Q95162020-Q106449878( ):::class1'], ['藤原義忠の娘////高階為家室//', 'Q22125080-Q106449821( ):::class1'], ['源顕親の娘////三条公行室//', 'Q11355819-Q106510244( ):::class1'], ['高階為家の娘////源家実の妻//', 'Q106450042-Q106449920( ):::class1'], ['高階業子', 'Q95162020-Q106449878( ):::class1'], ['高階為家の娘////源家実の妻//', 'Q106450042-Q106449920( ):::class1'], ['藤原為信の娘////藤原為時の妻//', 'Q759338-Q106410752( ):::class1'], ['源通家の母', 'Q11564313-Q106560732_mother( ):::class1'], ['高階業子', 'Q95162020-Q106449878( ):::class1'], ['大弐三位', 'Q18233501-Q3012130( ):::class1'], ['源資賢の娘////藤原定能室//の母', 'Q11564313-Q106567983_mother( ):::class1'], ['高階為家の娘////源有賢室//の母', 'Q22125080-Q106450680_mother( ):::class1'], ['源俊光の母', 'Q11564370-Q106629936_mother( ):::class1'], ['源資賢の娘////藤原公清の妻//', 'Q17213726-Q108602600( ):::class1'], ['高階基章の女////平清盛正室//', 'Q281833-Q106485436( ):::class1'], ['備中守為宗の娘////源雅俊の妻//', 'Q95162020-Q110746126( ):::class1'], ['紫式部', 'Q11623184-Q81731( ):::class1'], ['源家俊の母', 'Q106629936-Q95162023_mother( ):::class1'], ['徳大寺公能の娘////源資賢室//', 'Q11564313-Q106567987( ):::class1'], ['源顕親の娘////三条公行室//の母', 'Q11564370-Q106510244_mother( ):::class1'], ['高階基章の女////平清盛正室//の母', 'Q11673205-Q106485436_mother( ):::class1'], ['高階為家の娘////源家実の妻//の母', 'Q22125080-Q106449920_mother( ):::class1'], ['備中守為宗の娘////源雅俊の妻//', 'Q95162020-Q110746126( ):::class1'], ['藤原為信の娘////藤原為時の妻//の母', 'Q106410582-Q106410752_mother( ):::class1'], ['安倍男笠女', 'Q3090616-Q106235179( ):::class1'], ['藤原定方の娘////藤原雅正正室//', 'Q3090632-Q106255407( ):::class1'], ['藤原雅正の母', 'Q1473290-Q3090632_mother( ):::class1'], ['百済永継', 'Q11623088-Q11580786( ):::class1'], ['藤原利基の母', 'Q5507548-Q11623089_mother( ):::class1'], ['伴氏////藤原利基の妻//', 'Q11623089-Q106255377( ):::class1']]\n"
     ]
    }
   ],
   "source": [
    "# 配偶者ノードに ( ):::class1　を追加\n",
    "for i in range(len(pedigree_list)):\n",
    "    # bool(\"〇〇\")で〇〇が文字列(または数値)の時はtrue、空文字の時はfalseが返る\n",
    "    if bool(pedigree_list[i][1]):\n",
    "        #print(pedigree_list[i][1])\n",
    "        if pedigree_list[i][1].startswith('Q'):\n",
    "            pedigree_list[i][1] = pedigree_list[i][1] +  '( ):::class1'\n",
    "            # print(pedigree_list[i][1])\n",
    "\n",
    "    else:\n",
    "        print(\"空文字\")\n",
    "print(pedigree_list)"
   ]
  },
  {
   "cell_type": "code",
   "execution_count": 36,
   "metadata": {},
   "outputs": [
    {
     "name": "stdout",
     "output_type": "stream",
     "text": [
      "[['高階業子', 'Q95162020-Q106449878( ):::class1'], ['Q11623088-Q11580786', '藤原冬嗣'], ['Q95162020-Q106449878', '源顕親'], ['紫式部', 'Q11623184-Q81731( ):::class1'], ['高階為家', 'Q22125080-Q106449920_mother( ):::class1'], ['Q281833-Q106485436', '平基盛'], ['源雅賢の母', 'Q106560732-Q110469295_mother( ):::class1'], ['藤原義忠の娘////高階為家室//', 'Q22125080-Q106449821( ):::class1'], ['源資賢の娘////藤原公清の妻//', 'Q17213726-Q108602600( ):::class1'], ['高階基章の女////平清盛正室//', 'Q281833-Q106485436( ):::class1'], ['高階為家の娘////源家実の妻//', 'Q106450042-Q106449920( ):::class1'], ['源資賢の娘////藤原公清の妻//の母', 'Q11564313-Q108602600_mother( ):::class1'], ['百済永継', 'Q11623088-Q11580786( ):::class1'], ['藤原冬嗣', 'Q3090616-Q106235179( ):::class1'], ['藤原為信の娘////藤原為時の妻//の母', 'Q106410582-Q106410752_mother( ):::class1'], ['Q106629936-Q95162023_mother', '源家俊'], ['Q95162020-Q110746126', '源顕俊'], ['藤原為信の娘////藤原為時の妻//', 'Q759338-Q106410752( ):::class1'], ['源顕親の娘////三条公行室//', 'Q11355819-Q106510244( ):::class1'], ['高階為家の娘////源有賢室//の母', 'Q22125080-Q106450680_mother( ):::class1'], ['源時賢', 'Q106567994-Q106708607_mother( ):::class1'], ['源俊光の母', 'Q11564370-Q106629936_mother( ):::class1'], ['Q22125080-Q106449821', '高階為章'], ['Q1473290-Q3090632_mother', '藤原雅正'], ['源資賢', 'Q11564313-Q106560732_mother( ):::class1'], ['徳大寺公能の娘////源資賢室//', 'Q11564313-Q106567987( ):::class1'], ['源雅俊', 'Q95162020-Q110746126( ):::class1'], ['藤原宣孝', 'Q11623184-Q81731( ):::class1'], ['Q106567994-Q110809684_mother', '源資信'], ['藤原定方の娘////藤原雅正正室//', 'Q3090632-Q106255407( ):::class1'], ['高階為家の娘////源家実の妻//の母', 'Q22125080-Q106449920_mother( ):::class1'], ['高階為家', 'Q22125080-Q106449821( ):::class1'], ['源顕親', 'Q11564370-Q106510244_mother( ):::class1'], ['Q106450042-Q106449920', '高階基章'], ['三条公行', 'Q11355819-Q106510244( ):::class1'], ['藤原兼輔', 'Q1473290-Q3090632_mother( ):::class1'], ['Q281833-Q106485436', '平重盛'], ['Q5507548-Q11623089_mother', '藤原利基'], ['Q22126741-Q106450680', '源資賢'], ['Q17213726-Q108602600', '八条実俊'], ['Q106560732-Q110469295_mother', '源雅賢'], ['伴氏////藤原利基の妻//', 'Q11623089-Q106255377( ):::class1'], ['Q18233501-Q3012130', '高階為家'], ['Q22125080-Q106449878_mother', '高階業子'], ['Q95162020-Q106449878', '源顕重'], ['藤原為時', 'Q759338-Q106410752( ):::class1'], ['備中守為宗の娘////源雅俊の妻//', 'Q95162020-Q110746126( ):::class1'], ['源資賢', 'Q11564313-Q106567987( ):::class1'], ['Q22125080-Q106450680_mother', '高階為家の娘////源有賢室//'], ['源有資の母', 'Q106567994-Q106708607_mother( ):::class1'], ['Q11564313-Q106567987', '源時賢'], ['源資賢の娘////藤原定能室//の母', 'Q11564313-Q106567983_mother( ):::class1'], ['源家俊の母', 'Q106629936-Q95162023_mother( ):::class1'], ['Q11623084-Q3012130', '源良宗の妻'], ['Q22125080-Q106449920_mother', '高階為家の娘////源家実の妻//'], ['藤原良門', 'Q5507548-Q11623089_mother( ):::class1'], ['Q106450042-Q106449920', '源為忠'], ['Q11623184-Q81731', '大弐三位'], ['Q95162020-Q110746126', '源顕重'], ['Q3090632-Q106255407', '藤原為時'], ['安倍男笠女', 'Q3090616-Q106235179( ):::class1'], ['源資賢', 'Q11564313-Q106567983_mother( ):::class1'], ['Q11564313-Q108602600_mother', '源資賢の娘////藤原公清の妻//'], ['源有賢', 'Q22126741-Q106450680( ):::class1'], ['源俊光', 'Q106629936-Q95162023_mother( ):::class1'], ['源時賢', 'Q106567994-Q110809684_mother( ):::class1'], ['源家実', 'Q106450042-Q106449920( ):::class1'], ['大弐三位', 'Q11623084-Q3012130( ):::class1'], ['源資信の母', 'Q106567994-Q110809684_mother( ):::class1'], ['源顕親', 'Q11564370-Q106629936_mother( ):::class1'], ['源通家', 'Q106560732-Q110469295_mother( ):::class1'], ['藤原利基の母', 'Q5507548-Q11623089_mother( ):::class1'], ['高階為家', 'Q22125080-Q106449878_mother( ):::class1'], ['Q11564370-Q106510244_mother', '源顕親の娘////三条公行室//'], ['Q95162020-Q106449878', '源顕俊'], ['Q18233501-Q3012130', '高階成章の娘////藤原通宗の妻//'], ['Q759338-Q106410752', '紫式部'], ['Q11623089-Q106255377', '藤原兼輔'], ['高階基章の女////平清盛正室//の母', 'Q11673205-Q106485436_mother( ):::class1'], ['源顕親の娘////三条公行室//の母', 'Q11564370-Q106510244_mother( ):::class1'], ['Q106410582-Q106410752_mother', '藤原為信の娘////藤原為時の妻//'], ['高階業子の母', 'Q22125080-Q106449878_mother( ):::class1'], ['藤原公清', 'Q17213726-Q108602600( ):::class1'], ['高階基章', 'Q11673205-Q106485436_mother( ):::class1'], ['Q106567994-Q106708607_mother', '源有資'], ['Q3090616-Q106235179', '藤原良門'], ['源資賢', 'Q11564313-Q108602600_mother( ):::class1'], ['藤原為信////藤原文範の子//', 'Q106410582-Q106410752_mother( ):::class1'], ['源通家の母', 'Q11564313-Q106560732_mother( ):::class1'], ['Q11355819-Q106510244', '三条実長'], ['高階為家の娘////源有賢室//', 'Q22126741-Q106450680( ):::class1'], ['高階成章', 'Q18233501-Q3012130( ):::class1'], ['藤原利基', 'Q11623089-Q106255377( ):::class1'], ['大弐三位', 'Q18233501-Q3012130( ):::class1'], ['平清盛', 'Q281833-Q106485436( ):::class1'], ['Q11564370-Q106629936_mother', '源俊光'], ['藤原雅正の母', 'Q1473290-Q3090632_mother( ):::class1'], ['高階為家', 'Q22125080-Q106450680_mother( ):::class1'], ['藤原内麻呂', 'Q11623088-Q11580786( ):::class1'], ['Q11673205-Q106485436_mother', '高階基章の女////平清盛正室//'], ['Q11564313-Q106567983_mother', '源資賢の娘////藤原定能室//'], ['藤原兼隆', 'Q11623084-Q3012130( ):::class1'], ['Q11564313-Q106560732_mother', '源通家'], ['藤原雅正', 'Q3090632-Q106255407( ):::class1'], ['源雅俊', 'Q95162020-Q106449878( ):::class1']]\n"
     ]
    }
   ],
   "source": [
    "# 2次元配列の重複行を一発で削除する\n",
    "# 一度、集合に変換した後に、それをリストに再変換する。\n",
    "# 集合は要素の重複が許されず、また、重複する要素を含んだリストを与えて集合を作成すると、重複する要素が削除される。\n",
    "# ポイントはtupleに変換するとこ。list型だとsetが使えない。\n",
    "# s = set(pedigree_list)  # 重複要素を削除した集合を作成\n",
    "s = list(map(list, set(map(tuple, pedigree_list))))\n",
    "pedigree_list = list(s)  # その集合からリストを作成\n",
    "print(pedigree_list)  # [2, 3, 5, 6, 7, 8]など\n"
   ]
  },
  {
   "cell_type": "code",
   "execution_count": 37,
   "metadata": {},
   "outputs": [
    {
     "data": {
      "text/plain": [
       "['高階業子 --> Q95162020-Q106449878( ):::class1',\n",
       " 'Q11623088-Q11580786 --> 藤原冬嗣',\n",
       " 'Q95162020-Q106449878 --> 源顕親',\n",
       " '紫式部 --> Q11623184-Q81731( ):::class1',\n",
       " '高階為家 --> Q22125080-Q106449920_mother( ):::class1',\n",
       " 'Q281833-Q106485436 --> 平基盛',\n",
       " '源雅賢の母 --> Q106560732-Q110469295_mother( ):::class1',\n",
       " '藤原義忠の娘////高階為家室// --> Q22125080-Q106449821( ):::class1',\n",
       " '源資賢の娘////藤原公清の妻// --> Q17213726-Q108602600( ):::class1',\n",
       " '高階基章の女////平清盛正室// --> Q281833-Q106485436( ):::class1',\n",
       " '高階為家の娘////源家実の妻// --> Q106450042-Q106449920( ):::class1',\n",
       " '源資賢の娘////藤原公清の妻//の母 --> Q11564313-Q108602600_mother( ):::class1',\n",
       " '百済永継 --> Q11623088-Q11580786( ):::class1',\n",
       " '藤原冬嗣 --> Q3090616-Q106235179( ):::class1',\n",
       " '藤原為信の娘////藤原為時の妻//の母 --> Q106410582-Q106410752_mother( ):::class1',\n",
       " 'Q106629936-Q95162023_mother --> 源家俊',\n",
       " 'Q95162020-Q110746126 --> 源顕俊',\n",
       " '藤原為信の娘////藤原為時の妻// --> Q759338-Q106410752( ):::class1',\n",
       " '源顕親の娘////三条公行室// --> Q11355819-Q106510244( ):::class1',\n",
       " '高階為家の娘////源有賢室//の母 --> Q22125080-Q106450680_mother( ):::class1',\n",
       " '源時賢 --> Q106567994-Q106708607_mother( ):::class1',\n",
       " '源俊光の母 --> Q11564370-Q106629936_mother( ):::class1',\n",
       " 'Q22125080-Q106449821 --> 高階為章',\n",
       " 'Q1473290-Q3090632_mother --> 藤原雅正',\n",
       " '源資賢 --> Q11564313-Q106560732_mother( ):::class1',\n",
       " '徳大寺公能の娘////源資賢室// --> Q11564313-Q106567987( ):::class1',\n",
       " '源雅俊 --> Q95162020-Q110746126( ):::class1',\n",
       " '藤原宣孝 --> Q11623184-Q81731( ):::class1',\n",
       " 'Q106567994-Q110809684_mother --> 源資信',\n",
       " '藤原定方の娘////藤原雅正正室// --> Q3090632-Q106255407( ):::class1',\n",
       " '高階為家の娘////源家実の妻//の母 --> Q22125080-Q106449920_mother( ):::class1',\n",
       " '高階為家 --> Q22125080-Q106449821( ):::class1',\n",
       " '源顕親 --> Q11564370-Q106510244_mother( ):::class1',\n",
       " 'Q106450042-Q106449920 --> 高階基章',\n",
       " '三条公行 --> Q11355819-Q106510244( ):::class1',\n",
       " '藤原兼輔 --> Q1473290-Q3090632_mother( ):::class1',\n",
       " 'Q281833-Q106485436 --> 平重盛',\n",
       " 'Q5507548-Q11623089_mother --> 藤原利基',\n",
       " 'Q22126741-Q106450680 --> 源資賢',\n",
       " 'Q17213726-Q108602600 --> 八条実俊',\n",
       " 'Q106560732-Q110469295_mother --> 源雅賢',\n",
       " '伴氏////藤原利基の妻// --> Q11623089-Q106255377( ):::class1',\n",
       " 'Q18233501-Q3012130 --> 高階為家',\n",
       " 'Q22125080-Q106449878_mother --> 高階業子',\n",
       " 'Q95162020-Q106449878 --> 源顕重',\n",
       " '藤原為時 --> Q759338-Q106410752( ):::class1',\n",
       " '備中守為宗の娘////源雅俊の妻// --> Q95162020-Q110746126( ):::class1',\n",
       " '源資賢 --> Q11564313-Q106567987( ):::class1',\n",
       " 'Q22125080-Q106450680_mother --> 高階為家の娘////源有賢室//',\n",
       " '源有資の母 --> Q106567994-Q106708607_mother( ):::class1',\n",
       " 'Q11564313-Q106567987 --> 源時賢',\n",
       " '源資賢の娘////藤原定能室//の母 --> Q11564313-Q106567983_mother( ):::class1',\n",
       " '源家俊の母 --> Q106629936-Q95162023_mother( ):::class1',\n",
       " 'Q11623084-Q3012130 --> 源良宗の妻',\n",
       " 'Q22125080-Q106449920_mother --> 高階為家の娘////源家実の妻//',\n",
       " '藤原良門 --> Q5507548-Q11623089_mother( ):::class1',\n",
       " 'Q106450042-Q106449920 --> 源為忠',\n",
       " 'Q11623184-Q81731 --> 大弐三位',\n",
       " 'Q95162020-Q110746126 --> 源顕重',\n",
       " 'Q3090632-Q106255407 --> 藤原為時',\n",
       " '安倍男笠女 --> Q3090616-Q106235179( ):::class1',\n",
       " '源資賢 --> Q11564313-Q106567983_mother( ):::class1',\n",
       " 'Q11564313-Q108602600_mother --> 源資賢の娘////藤原公清の妻//',\n",
       " '源有賢 --> Q22126741-Q106450680( ):::class1',\n",
       " '源俊光 --> Q106629936-Q95162023_mother( ):::class1',\n",
       " '源時賢 --> Q106567994-Q110809684_mother( ):::class1',\n",
       " '源家実 --> Q106450042-Q106449920( ):::class1',\n",
       " '大弐三位 --> Q11623084-Q3012130( ):::class1',\n",
       " '源資信の母 --> Q106567994-Q110809684_mother( ):::class1',\n",
       " '源顕親 --> Q11564370-Q106629936_mother( ):::class1',\n",
       " '源通家 --> Q106560732-Q110469295_mother( ):::class1',\n",
       " '藤原利基の母 --> Q5507548-Q11623089_mother( ):::class1',\n",
       " '高階為家 --> Q22125080-Q106449878_mother( ):::class1',\n",
       " 'Q11564370-Q106510244_mother --> 源顕親の娘////三条公行室//',\n",
       " 'Q95162020-Q106449878 --> 源顕俊',\n",
       " 'Q18233501-Q3012130 --> 高階成章の娘////藤原通宗の妻//',\n",
       " 'Q759338-Q106410752 --> 紫式部',\n",
       " 'Q11623089-Q106255377 --> 藤原兼輔',\n",
       " '高階基章の女////平清盛正室//の母 --> Q11673205-Q106485436_mother( ):::class1',\n",
       " '源顕親の娘////三条公行室//の母 --> Q11564370-Q106510244_mother( ):::class1',\n",
       " 'Q106410582-Q106410752_mother --> 藤原為信の娘////藤原為時の妻//',\n",
       " '高階業子の母 --> Q22125080-Q106449878_mother( ):::class1',\n",
       " '藤原公清 --> Q17213726-Q108602600( ):::class1',\n",
       " '高階基章 --> Q11673205-Q106485436_mother( ):::class1',\n",
       " 'Q106567994-Q106708607_mother --> 源有資',\n",
       " 'Q3090616-Q106235179 --> 藤原良門',\n",
       " '源資賢 --> Q11564313-Q108602600_mother( ):::class1',\n",
       " '藤原為信////藤原文範の子// --> Q106410582-Q106410752_mother( ):::class1',\n",
       " '源通家の母 --> Q11564313-Q106560732_mother( ):::class1',\n",
       " 'Q11355819-Q106510244 --> 三条実長',\n",
       " '高階為家の娘////源有賢室// --> Q22126741-Q106450680( ):::class1',\n",
       " '高階成章 --> Q18233501-Q3012130( ):::class1',\n",
       " '藤原利基 --> Q11623089-Q106255377( ):::class1',\n",
       " '大弐三位 --> Q18233501-Q3012130( ):::class1',\n",
       " '平清盛 --> Q281833-Q106485436( ):::class1',\n",
       " 'Q11564370-Q106629936_mother --> 源俊光',\n",
       " '藤原雅正の母 --> Q1473290-Q3090632_mother( ):::class1',\n",
       " '高階為家 --> Q22125080-Q106450680_mother( ):::class1',\n",
       " '藤原内麻呂 --> Q11623088-Q11580786( ):::class1',\n",
       " 'Q11673205-Q106485436_mother --> 高階基章の女////平清盛正室//',\n",
       " 'Q11564313-Q106567983_mother --> 源資賢の娘////藤原定能室//',\n",
       " '藤原兼隆 --> Q11623084-Q3012130( ):::class1',\n",
       " 'Q11564313-Q106560732_mother --> 源通家',\n",
       " '藤原雅正 --> Q3090632-Q106255407( ):::class1',\n",
       " '源雅俊 --> Q95162020-Q106449878( ):::class1']"
      ]
     },
     "execution_count": 37,
     "metadata": {},
     "output_type": "execute_result"
    }
   ],
   "source": [
    "# mermaid用の矢印つきリストを生成する\n",
    "pedigree_list_arrow = [item[0] + ' --> ' + item[1] for item in pedigree_list]\n",
    "pedigree_list_arrow\n"
   ]
  },
  {
   "cell_type": "code",
   "execution_count": 38,
   "metadata": {},
   "outputs": [
    {
     "data": {
      "text/plain": [
       "'```mermaid\\n---\\ntitle: familly tree\\nconfig:\\n  theme: base\\n  themeCSS:\\n    .node circle {fill: #FAFAFA;}\\n    .label text {fill: #FAFBF9 !important;} .output {font-size:60px;}\\n---\\ngraph TD\\n    classDef class1 fill:#fff,fill-opacity:0\\n'"
      ]
     },
     "execution_count": 38,
     "metadata": {},
     "output_type": "execute_result"
    }
   ],
   "source": [
    "def generate_report(export_path):\n",
    "    \"\"\"\n",
    "    Markdown のレポートを生成する\n",
    "    \"\"\"\n",
    "    \n",
    "    # 変更のない固定文を出力する\n",
    "    text = \"\"\"\\\n",
    "```mermaid\n",
    "---\n",
    "title: familly tree\n",
    "config:\n",
    "  theme: base\n",
    "  themeCSS:\n",
    "    .node circle {fill: #FAFAFA;}\n",
    "    .label text {fill: #FAFBF9 !important;} .output {font-size:60px;}\n",
    "---\n",
    "graph TD\n",
    "    classDef class1 fill:#fff,fill-opacity:0\n",
    "\"\"\"\n",
    "\n",
    "    # ファイルに書き出す\n",
    "    with open(export_path, 'w', encoding='utf-8') as f:\n",
    "        f.write(text)\n",
    "        # 配列を出力\n",
    "        for d in pedigree_list_arrow:\n",
    "            f.write(\"%s\\n\" % d)\n",
    "\n",
    "    return text\n",
    "\n",
    "path = r\"C:\\Users\\onowa\\pedigree\\test.md\"\n",
    "generate_report(path)"
   ]
  },
  {
   "cell_type": "code",
   "execution_count": null,
   "metadata": {},
   "outputs": [],
   "source": []
  }
 ],
 "metadata": {
  "kernelspec": {
   "display_name": "env_chroma",
   "language": "python",
   "name": "python3"
  },
  "language_info": {
   "codemirror_mode": {
    "name": "ipython",
    "version": 3
   },
   "file_extension": ".py",
   "mimetype": "text/x-python",
   "name": "python",
   "nbconvert_exporter": "python",
   "pygments_lexer": "ipython3",
   "version": "3.11.7"
  }
 },
 "nbformat": 4,
 "nbformat_minor": 2
}
